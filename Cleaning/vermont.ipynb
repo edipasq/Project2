{
 "cells": [
  {
   "cell_type": "code",
   "execution_count": 1,
   "id": "048c15a2-56f2-4e12-8b2f-97fb0a120fa2",
   "metadata": {},
   "outputs": [],
   "source": [
    "import os\n",
    "import pandas as pd"
   ]
  },
  {
   "cell_type": "code",
   "execution_count": 2,
   "id": "bb5b4351-7af6-482b-8fcb-d17a40a173cc",
   "metadata": {},
   "outputs": [],
   "source": [
    "vt_2015 = os.path.join('../Resources/Vermont','nibrs_arrestee_2015.csv')\n",
    "vt_2016 = os.path.join('../Resources/Vermont','nibrs_arrestee_2016.csv')\n",
    "vt_2017 = os.path.join('../Resources/Vermont','nibrs_arrestee_2017.csv')\n",
    "vt_2018 = os.path.join('../Resources/Vermont','nibrs_arrestee_2018.csv')\n",
    "vt_2019 = os.path.join('../Resources/Vermont','nibrs_arrestee_2019.csv')"
   ]
  },
  {
   "cell_type": "markdown",
   "id": "948040a5-7f55-4f8b-bfea-384aaf210664",
   "metadata": {},
   "source": [
    "# Files to DataFrame"
   ]
  },
  {
   "cell_type": "code",
   "execution_count": 3,
   "id": "f9a23e29-bae3-46a5-a457-2808cc544a58",
   "metadata": {},
   "outputs": [],
   "source": [
    "vt_2015_df = pd.read_csv(vt_2015)\n",
    "vt_2016_df = pd.read_csv(vt_2016)\n",
    "vt_2017_df = pd.read_csv(vt_2017)\n",
    "vt_2018_df = pd.read_csv(vt_2018)\n",
    "vt_2019_df = pd.read_csv(vt_2019)"
   ]
  },
  {
   "cell_type": "markdown",
   "id": "fe076e01-9ca2-42eb-9ea8-506b95f2a223",
   "metadata": {},
   "source": [
    "# Select columns and copy DataFrame"
   ]
  },
  {
   "cell_type": "code",
   "execution_count": 4,
   "id": "54c3c0b8-b158-4501-8d81-be9682e04896",
   "metadata": {},
   "outputs": [],
   "source": [
    "vt_2015_df = vt_2015_df[['arrest_date','offense_type_id', 'sex_code']].copy()\n",
    "vt_2016_df = vt_2016_df[['arrest_date','offense_type_id', 'sex_code']].copy()\n",
    "vt_2017_df = vt_2017_df[['DATA_YEAR','ARREST_DATE','OFFENSE_TYPE_ID', 'SEX_CODE']].copy()\n",
    "vt_2018_df = vt_2018_df[['DATA_YEAR','ARREST_DATE','OFFENSE_TYPE_ID', 'SEX_CODE']].copy()\n",
    "vt_2019_df = vt_2019_df[['DATA_YEAR','ARREST_DATE','OFFENSE_TYPE_ID', 'SEX_CODE']].copy()"
   ]
  },
  {
   "cell_type": "markdown",
   "id": "587da396-e32a-45aa-941f-06b221eead93",
   "metadata": {},
   "source": [
    "# Filter by offense_type = 35 for drug type"
   ]
  },
  {
   "cell_type": "code",
   "execution_count": 5,
   "id": "78ea1bb5-376d-4412-928c-316701597195",
   "metadata": {},
   "outputs": [],
   "source": [
    "offense_type = 35"
   ]
  },
  {
   "cell_type": "code",
   "execution_count": 6,
   "id": "a7bf1a4c-e87e-4c73-bfa8-e84f802b5fea",
   "metadata": {},
   "outputs": [
    {
     "data": {
      "text/html": [
       "<div>\n",
       "<style scoped>\n",
       "    .dataframe tbody tr th:only-of-type {\n",
       "        vertical-align: middle;\n",
       "    }\n",
       "\n",
       "    .dataframe tbody tr th {\n",
       "        vertical-align: top;\n",
       "    }\n",
       "\n",
       "    .dataframe thead th {\n",
       "        text-align: right;\n",
       "    }\n",
       "</style>\n",
       "<table border=\"1\" class=\"dataframe\">\n",
       "  <thead>\n",
       "    <tr style=\"text-align: right;\">\n",
       "      <th></th>\n",
       "      <th>arrest_date</th>\n",
       "      <th>offense_type_id</th>\n",
       "      <th>sex_code</th>\n",
       "    </tr>\n",
       "  </thead>\n",
       "  <tbody>\n",
       "  </tbody>\n",
       "</table>\n",
       "</div>"
      ],
      "text/plain": [
       "Empty DataFrame\n",
       "Columns: [arrest_date, offense_type_id, sex_code]\n",
       "Index: []"
      ]
     },
     "execution_count": 6,
     "metadata": {},
     "output_type": "execute_result"
    }
   ],
   "source": [
    "vt_2015_df = vt_2015_df[vt_2015_df.offense_type_id.eq(offense_type)]\n",
    "vt_2015_df"
   ]
  },
  {
   "cell_type": "code",
   "execution_count": 7,
   "id": "912aed66-5f51-4bca-81f0-5874e2fb0e4e",
   "metadata": {},
   "outputs": [
    {
     "data": {
      "text/html": [
       "<div>\n",
       "<style scoped>\n",
       "    .dataframe tbody tr th:only-of-type {\n",
       "        vertical-align: middle;\n",
       "    }\n",
       "\n",
       "    .dataframe tbody tr th {\n",
       "        vertical-align: top;\n",
       "    }\n",
       "\n",
       "    .dataframe thead th {\n",
       "        text-align: right;\n",
       "    }\n",
       "</style>\n",
       "<table border=\"1\" class=\"dataframe\">\n",
       "  <thead>\n",
       "    <tr style=\"text-align: right;\">\n",
       "      <th></th>\n",
       "      <th>arrest_date</th>\n",
       "      <th>offense_type_id</th>\n",
       "      <th>sex_code</th>\n",
       "    </tr>\n",
       "  </thead>\n",
       "  <tbody>\n",
       "  </tbody>\n",
       "</table>\n",
       "</div>"
      ],
      "text/plain": [
       "Empty DataFrame\n",
       "Columns: [arrest_date, offense_type_id, sex_code]\n",
       "Index: []"
      ]
     },
     "execution_count": 7,
     "metadata": {},
     "output_type": "execute_result"
    }
   ],
   "source": [
    "vt_2016_df = vt_2016_df[vt_2016_df.offense_type_id.eq(offense_type)]\n",
    "vt_2016_df"
   ]
  },
  {
   "cell_type": "code",
   "execution_count": 8,
   "id": "a33328d0-6ab6-4fed-b882-390555e5ea12",
   "metadata": {},
   "outputs": [],
   "source": [
    "vt_2017_df = vt_2017_df[vt_2017_df.OFFENSE_TYPE_ID.eq(offense_type)]\n",
    "vt_2017_df = vt_2017_df.reset_index(drop=True)\n",
    "vt_2017_df = vt_2017_df.rename(columns={'DATA_YEAR':'year',\"ARREST_DATE\":'arrest_date','OFFENSE_TYPE_ID':'offense_type_id','SEX_CODE':'sex_code'})"
   ]
  },
  {
   "cell_type": "code",
   "execution_count": 9,
   "id": "1fe18734-65d0-4d89-bf63-6f0255ff56ee",
   "metadata": {},
   "outputs": [
    {
     "data": {
      "text/html": [
       "<div>\n",
       "<style scoped>\n",
       "    .dataframe tbody tr th:only-of-type {\n",
       "        vertical-align: middle;\n",
       "    }\n",
       "\n",
       "    .dataframe tbody tr th {\n",
       "        vertical-align: top;\n",
       "    }\n",
       "\n",
       "    .dataframe thead th {\n",
       "        text-align: right;\n",
       "    }\n",
       "</style>\n",
       "<table border=\"1\" class=\"dataframe\">\n",
       "  <thead>\n",
       "    <tr style=\"text-align: right;\">\n",
       "      <th></th>\n",
       "      <th>year</th>\n",
       "      <th>arrest_date</th>\n",
       "      <th>offense_type_id</th>\n",
       "      <th>sex_code</th>\n",
       "    </tr>\n",
       "  </thead>\n",
       "  <tbody>\n",
       "    <tr>\n",
       "      <th>0</th>\n",
       "      <td>2017</td>\n",
       "      <td>06-SEP-17</td>\n",
       "      <td>35</td>\n",
       "      <td>F</td>\n",
       "    </tr>\n",
       "    <tr>\n",
       "      <th>1</th>\n",
       "      <td>2017</td>\n",
       "      <td>17-OCT-17</td>\n",
       "      <td>35</td>\n",
       "      <td>F</td>\n",
       "    </tr>\n",
       "    <tr>\n",
       "      <th>2</th>\n",
       "      <td>2017</td>\n",
       "      <td>03-JUN-17</td>\n",
       "      <td>35</td>\n",
       "      <td>F</td>\n",
       "    </tr>\n",
       "    <tr>\n",
       "      <th>3</th>\n",
       "      <td>2017</td>\n",
       "      <td>16-AUG-17</td>\n",
       "      <td>35</td>\n",
       "      <td>F</td>\n",
       "    </tr>\n",
       "  </tbody>\n",
       "</table>\n",
       "</div>"
      ],
      "text/plain": [
       "   year arrest_date  offense_type_id sex_code\n",
       "0  2017   06-SEP-17               35        F\n",
       "1  2017   17-OCT-17               35        F\n",
       "2  2017   03-JUN-17               35        F\n",
       "3  2017   16-AUG-17               35        F"
      ]
     },
     "execution_count": 9,
     "metadata": {},
     "output_type": "execute_result"
    }
   ],
   "source": [
    "vt_2017_df"
   ]
  },
  {
   "cell_type": "code",
   "execution_count": 10,
   "id": "94f19150-e8ed-4a15-8c80-685ef1f5afd6",
   "metadata": {},
   "outputs": [],
   "source": [
    "vt_2018_df = vt_2018_df[vt_2018_df.OFFENSE_TYPE_ID.eq(offense_type)]\n",
    "vt_2018_df = vt_2018_df.reset_index(drop=True)\n",
    "vt_2018_df = vt_2018_df.rename(columns={'DATA_YEAR':'year',\"ARREST_DATE\":'arrest_date','OFFENSE_TYPE_ID':'offense_type_id','SEX_CODE':'sex_code'})"
   ]
  },
  {
   "cell_type": "code",
   "execution_count": 11,
   "id": "bc3b2693-eef2-4a9d-97f9-961869fb03ec",
   "metadata": {},
   "outputs": [
    {
     "data": {
      "text/html": [
       "<div>\n",
       "<style scoped>\n",
       "    .dataframe tbody tr th:only-of-type {\n",
       "        vertical-align: middle;\n",
       "    }\n",
       "\n",
       "    .dataframe tbody tr th {\n",
       "        vertical-align: top;\n",
       "    }\n",
       "\n",
       "    .dataframe thead th {\n",
       "        text-align: right;\n",
       "    }\n",
       "</style>\n",
       "<table border=\"1\" class=\"dataframe\">\n",
       "  <thead>\n",
       "    <tr style=\"text-align: right;\">\n",
       "      <th></th>\n",
       "      <th>year</th>\n",
       "      <th>arrest_date</th>\n",
       "      <th>offense_type_id</th>\n",
       "      <th>sex_code</th>\n",
       "    </tr>\n",
       "  </thead>\n",
       "  <tbody>\n",
       "    <tr>\n",
       "      <th>0</th>\n",
       "      <td>2018</td>\n",
       "      <td>09-AUG-18</td>\n",
       "      <td>35</td>\n",
       "      <td>F</td>\n",
       "    </tr>\n",
       "  </tbody>\n",
       "</table>\n",
       "</div>"
      ],
      "text/plain": [
       "   year arrest_date  offense_type_id sex_code\n",
       "0  2018   09-AUG-18               35        F"
      ]
     },
     "execution_count": 11,
     "metadata": {},
     "output_type": "execute_result"
    }
   ],
   "source": [
    "vt_2018_df"
   ]
  },
  {
   "cell_type": "code",
   "execution_count": 12,
   "id": "afefaa8e-36a0-48c6-87c2-c9fe7434d6ff",
   "metadata": {},
   "outputs": [],
   "source": [
    "vt_2019_df = vt_2019_df[vt_2019_df.OFFENSE_TYPE_ID.eq(offense_type)]\n",
    "vt_2019_df = vt_2019_df.reset_index(drop = True)\n",
    "vt_2019_df = vt_2019_df.rename(columns={'DATA_YEAR':'year',\"ARREST_DATE\":'arrest_date','OFFENSE_TYPE_ID':'offense_type_id','SEX_CODE':'sex_code'})"
   ]
  },
  {
   "cell_type": "code",
   "execution_count": 13,
   "id": "f0dbb063-4e6f-4bad-a3ca-4eacdd9fc6dd",
   "metadata": {},
   "outputs": [
    {
     "data": {
      "text/html": [
       "<div>\n",
       "<style scoped>\n",
       "    .dataframe tbody tr th:only-of-type {\n",
       "        vertical-align: middle;\n",
       "    }\n",
       "\n",
       "    .dataframe tbody tr th {\n",
       "        vertical-align: top;\n",
       "    }\n",
       "\n",
       "    .dataframe thead th {\n",
       "        text-align: right;\n",
       "    }\n",
       "</style>\n",
       "<table border=\"1\" class=\"dataframe\">\n",
       "  <thead>\n",
       "    <tr style=\"text-align: right;\">\n",
       "      <th></th>\n",
       "      <th>year</th>\n",
       "      <th>arrest_date</th>\n",
       "      <th>offense_type_id</th>\n",
       "      <th>sex_code</th>\n",
       "    </tr>\n",
       "  </thead>\n",
       "  <tbody>\n",
       "    <tr>\n",
       "      <th>0</th>\n",
       "      <td>2019</td>\n",
       "      <td>06-FEB-19</td>\n",
       "      <td>35</td>\n",
       "      <td>M</td>\n",
       "    </tr>\n",
       "    <tr>\n",
       "      <th>1</th>\n",
       "      <td>2019</td>\n",
       "      <td>15-OCT-19</td>\n",
       "      <td>35</td>\n",
       "      <td>F</td>\n",
       "    </tr>\n",
       "    <tr>\n",
       "      <th>2</th>\n",
       "      <td>2019</td>\n",
       "      <td>17-NOV-19</td>\n",
       "      <td>35</td>\n",
       "      <td>M</td>\n",
       "    </tr>\n",
       "    <tr>\n",
       "      <th>3</th>\n",
       "      <td>2019</td>\n",
       "      <td>22-JUN-19</td>\n",
       "      <td>35</td>\n",
       "      <td>M</td>\n",
       "    </tr>\n",
       "  </tbody>\n",
       "</table>\n",
       "</div>"
      ],
      "text/plain": [
       "   year arrest_date  offense_type_id sex_code\n",
       "0  2019   06-FEB-19               35        M\n",
       "1  2019   15-OCT-19               35        F\n",
       "2  2019   17-NOV-19               35        M\n",
       "3  2019   22-JUN-19               35        M"
      ]
     },
     "execution_count": 13,
     "metadata": {},
     "output_type": "execute_result"
    }
   ],
   "source": [
    "vt_2019_df = vt_2019_df.reset_index(drop = True)\n",
    "vt_2019_df"
   ]
  },
  {
   "cell_type": "markdown",
   "id": "8296ef71-6a02-4b4c-afc7-8b2389f1f369",
   "metadata": {},
   "source": [
    "# Merge All the DataFrame into VT_df"
   ]
  },
  {
   "cell_type": "code",
   "execution_count": 14,
   "id": "10679229-a70c-4823-9f01-3b696695ca8f",
   "metadata": {},
   "outputs": [
    {
     "data": {
      "text/html": [
       "<div>\n",
       "<style scoped>\n",
       "    .dataframe tbody tr th:only-of-type {\n",
       "        vertical-align: middle;\n",
       "    }\n",
       "\n",
       "    .dataframe tbody tr th {\n",
       "        vertical-align: top;\n",
       "    }\n",
       "\n",
       "    .dataframe thead th {\n",
       "        text-align: right;\n",
       "    }\n",
       "</style>\n",
       "<table border=\"1\" class=\"dataframe\">\n",
       "  <thead>\n",
       "    <tr style=\"text-align: right;\">\n",
       "      <th></th>\n",
       "      <th>arrest_date</th>\n",
       "      <th>offense_type_id</th>\n",
       "      <th>sex_code</th>\n",
       "    </tr>\n",
       "  </thead>\n",
       "  <tbody>\n",
       "  </tbody>\n",
       "</table>\n",
       "</div>"
      ],
      "text/plain": [
       "Empty DataFrame\n",
       "Columns: [arrest_date, offense_type_id, sex_code]\n",
       "Index: []"
      ]
     },
     "execution_count": 14,
     "metadata": {},
     "output_type": "execute_result"
    }
   ],
   "source": [
    "merged = vt_2015_df.merge(vt_2016_df, how = 'outer')\n",
    "merged"
   ]
  },
  {
   "cell_type": "code",
   "execution_count": 15,
   "id": "fac0808a-5761-4c32-a276-24235fc44d3b",
   "metadata": {},
   "outputs": [],
   "source": [
    "merged2 = merged.merge(vt_2017_df, how='outer')"
   ]
  },
  {
   "cell_type": "code",
   "execution_count": 16,
   "id": "e8d51dbf-9d64-4759-8342-294494753b03",
   "metadata": {},
   "outputs": [
    {
     "data": {
      "text/html": [
       "<div>\n",
       "<style scoped>\n",
       "    .dataframe tbody tr th:only-of-type {\n",
       "        vertical-align: middle;\n",
       "    }\n",
       "\n",
       "    .dataframe tbody tr th {\n",
       "        vertical-align: top;\n",
       "    }\n",
       "\n",
       "    .dataframe thead th {\n",
       "        text-align: right;\n",
       "    }\n",
       "</style>\n",
       "<table border=\"1\" class=\"dataframe\">\n",
       "  <thead>\n",
       "    <tr style=\"text-align: right;\">\n",
       "      <th></th>\n",
       "      <th>year</th>\n",
       "      <th>arrest_date</th>\n",
       "      <th>offense_type_id</th>\n",
       "      <th>sex_code</th>\n",
       "    </tr>\n",
       "  </thead>\n",
       "  <tbody>\n",
       "    <tr>\n",
       "      <th>0</th>\n",
       "      <td>2017</td>\n",
       "      <td>06-SEP-17</td>\n",
       "      <td>35</td>\n",
       "      <td>F</td>\n",
       "    </tr>\n",
       "    <tr>\n",
       "      <th>1</th>\n",
       "      <td>2017</td>\n",
       "      <td>17-OCT-17</td>\n",
       "      <td>35</td>\n",
       "      <td>F</td>\n",
       "    </tr>\n",
       "    <tr>\n",
       "      <th>2</th>\n",
       "      <td>2017</td>\n",
       "      <td>03-JUN-17</td>\n",
       "      <td>35</td>\n",
       "      <td>F</td>\n",
       "    </tr>\n",
       "    <tr>\n",
       "      <th>3</th>\n",
       "      <td>2017</td>\n",
       "      <td>16-AUG-17</td>\n",
       "      <td>35</td>\n",
       "      <td>F</td>\n",
       "    </tr>\n",
       "  </tbody>\n",
       "</table>\n",
       "</div>"
      ],
      "text/plain": [
       "   year arrest_date  offense_type_id sex_code\n",
       "0  2017   06-SEP-17               35        F\n",
       "1  2017   17-OCT-17               35        F\n",
       "2  2017   03-JUN-17               35        F\n",
       "3  2017   16-AUG-17               35        F"
      ]
     },
     "execution_count": 16,
     "metadata": {},
     "output_type": "execute_result"
    }
   ],
   "source": [
    "merged2"
   ]
  },
  {
   "cell_type": "code",
   "execution_count": 17,
   "id": "3f0f0eed-96e5-45f5-ac06-8b33c7ae2e9a",
   "metadata": {},
   "outputs": [],
   "source": [
    "merged3 = merged2.merge(vt_2018_df, how='outer')\n",
    "merged4 = merged3.merge(vt_2019_df, how='outer')"
   ]
  },
  {
   "cell_type": "code",
   "execution_count": 18,
   "id": "afd05144-071f-4cfe-a7b1-8505efb613cd",
   "metadata": {},
   "outputs": [
    {
     "data": {
      "text/html": [
       "<div>\n",
       "<style scoped>\n",
       "    .dataframe tbody tr th:only-of-type {\n",
       "        vertical-align: middle;\n",
       "    }\n",
       "\n",
       "    .dataframe tbody tr th {\n",
       "        vertical-align: top;\n",
       "    }\n",
       "\n",
       "    .dataframe thead th {\n",
       "        text-align: right;\n",
       "    }\n",
       "</style>\n",
       "<table border=\"1\" class=\"dataframe\">\n",
       "  <thead>\n",
       "    <tr style=\"text-align: right;\">\n",
       "      <th></th>\n",
       "      <th>year</th>\n",
       "      <th>arrest_date</th>\n",
       "      <th>offense_type_id</th>\n",
       "      <th>sex_code</th>\n",
       "    </tr>\n",
       "  </thead>\n",
       "  <tbody>\n",
       "    <tr>\n",
       "      <th>0</th>\n",
       "      <td>2017</td>\n",
       "      <td>06-SEP-17</td>\n",
       "      <td>35</td>\n",
       "      <td>F</td>\n",
       "    </tr>\n",
       "    <tr>\n",
       "      <th>1</th>\n",
       "      <td>2017</td>\n",
       "      <td>17-OCT-17</td>\n",
       "      <td>35</td>\n",
       "      <td>F</td>\n",
       "    </tr>\n",
       "    <tr>\n",
       "      <th>2</th>\n",
       "      <td>2017</td>\n",
       "      <td>03-JUN-17</td>\n",
       "      <td>35</td>\n",
       "      <td>F</td>\n",
       "    </tr>\n",
       "    <tr>\n",
       "      <th>3</th>\n",
       "      <td>2017</td>\n",
       "      <td>16-AUG-17</td>\n",
       "      <td>35</td>\n",
       "      <td>F</td>\n",
       "    </tr>\n",
       "    <tr>\n",
       "      <th>4</th>\n",
       "      <td>2018</td>\n",
       "      <td>09-AUG-18</td>\n",
       "      <td>35</td>\n",
       "      <td>F</td>\n",
       "    </tr>\n",
       "    <tr>\n",
       "      <th>5</th>\n",
       "      <td>2019</td>\n",
       "      <td>06-FEB-19</td>\n",
       "      <td>35</td>\n",
       "      <td>M</td>\n",
       "    </tr>\n",
       "    <tr>\n",
       "      <th>6</th>\n",
       "      <td>2019</td>\n",
       "      <td>15-OCT-19</td>\n",
       "      <td>35</td>\n",
       "      <td>F</td>\n",
       "    </tr>\n",
       "    <tr>\n",
       "      <th>7</th>\n",
       "      <td>2019</td>\n",
       "      <td>17-NOV-19</td>\n",
       "      <td>35</td>\n",
       "      <td>M</td>\n",
       "    </tr>\n",
       "    <tr>\n",
       "      <th>8</th>\n",
       "      <td>2019</td>\n",
       "      <td>22-JUN-19</td>\n",
       "      <td>35</td>\n",
       "      <td>M</td>\n",
       "    </tr>\n",
       "  </tbody>\n",
       "</table>\n",
       "</div>"
      ],
      "text/plain": [
       "   year arrest_date  offense_type_id sex_code\n",
       "0  2017   06-SEP-17               35        F\n",
       "1  2017   17-OCT-17               35        F\n",
       "2  2017   03-JUN-17               35        F\n",
       "3  2017   16-AUG-17               35        F\n",
       "4  2018   09-AUG-18               35        F\n",
       "5  2019   06-FEB-19               35        M\n",
       "6  2019   15-OCT-19               35        F\n",
       "7  2019   17-NOV-19               35        M\n",
       "8  2019   22-JUN-19               35        M"
      ]
     },
     "execution_count": 18,
     "metadata": {},
     "output_type": "execute_result"
    }
   ],
   "source": [
    "merged4"
   ]
  },
  {
   "cell_type": "code",
   "execution_count": 19,
   "id": "c24eb4f7-b59d-4d7f-81c9-00d61d738a7a",
   "metadata": {},
   "outputs": [],
   "source": [
    "VT_df = merged4[['year','arrest_date','sex_code']].copy()"
   ]
  },
  {
   "cell_type": "markdown",
   "id": "d1291b4a-87d1-4548-a1de-87d03d56d4c1",
   "metadata": {},
   "source": [
    "## set up month and state"
   ]
  },
  {
   "cell_type": "code",
   "execution_count": 20,
   "id": "d6ffcae4-7f5e-4e28-a1ce-c81e3d32cdf4",
   "metadata": {},
   "outputs": [
    {
     "data": {
      "text/html": [
       "<div>\n",
       "<style scoped>\n",
       "    .dataframe tbody tr th:only-of-type {\n",
       "        vertical-align: middle;\n",
       "    }\n",
       "\n",
       "    .dataframe tbody tr th {\n",
       "        vertical-align: top;\n",
       "    }\n",
       "\n",
       "    .dataframe thead th {\n",
       "        text-align: right;\n",
       "    }\n",
       "</style>\n",
       "<table border=\"1\" class=\"dataframe\">\n",
       "  <thead>\n",
       "    <tr style=\"text-align: right;\">\n",
       "      <th></th>\n",
       "      <th>year</th>\n",
       "      <th>arrest_date</th>\n",
       "      <th>sex_code</th>\n",
       "    </tr>\n",
       "  </thead>\n",
       "  <tbody>\n",
       "    <tr>\n",
       "      <th>0</th>\n",
       "      <td>2017</td>\n",
       "      <td>06-SEP-17</td>\n",
       "      <td>F</td>\n",
       "    </tr>\n",
       "    <tr>\n",
       "      <th>1</th>\n",
       "      <td>2017</td>\n",
       "      <td>17-OCT-17</td>\n",
       "      <td>F</td>\n",
       "    </tr>\n",
       "    <tr>\n",
       "      <th>2</th>\n",
       "      <td>2017</td>\n",
       "      <td>03-JUN-17</td>\n",
       "      <td>F</td>\n",
       "    </tr>\n",
       "    <tr>\n",
       "      <th>3</th>\n",
       "      <td>2017</td>\n",
       "      <td>16-AUG-17</td>\n",
       "      <td>F</td>\n",
       "    </tr>\n",
       "    <tr>\n",
       "      <th>4</th>\n",
       "      <td>2018</td>\n",
       "      <td>09-AUG-18</td>\n",
       "      <td>F</td>\n",
       "    </tr>\n",
       "    <tr>\n",
       "      <th>5</th>\n",
       "      <td>2019</td>\n",
       "      <td>06-FEB-19</td>\n",
       "      <td>M</td>\n",
       "    </tr>\n",
       "    <tr>\n",
       "      <th>6</th>\n",
       "      <td>2019</td>\n",
       "      <td>15-OCT-19</td>\n",
       "      <td>F</td>\n",
       "    </tr>\n",
       "    <tr>\n",
       "      <th>7</th>\n",
       "      <td>2019</td>\n",
       "      <td>17-NOV-19</td>\n",
       "      <td>M</td>\n",
       "    </tr>\n",
       "    <tr>\n",
       "      <th>8</th>\n",
       "      <td>2019</td>\n",
       "      <td>22-JUN-19</td>\n",
       "      <td>M</td>\n",
       "    </tr>\n",
       "  </tbody>\n",
       "</table>\n",
       "</div>"
      ],
      "text/plain": [
       "   year arrest_date sex_code\n",
       "0  2017   06-SEP-17        F\n",
       "1  2017   17-OCT-17        F\n",
       "2  2017   03-JUN-17        F\n",
       "3  2017   16-AUG-17        F\n",
       "4  2018   09-AUG-18        F\n",
       "5  2019   06-FEB-19        M\n",
       "6  2019   15-OCT-19        F\n",
       "7  2019   17-NOV-19        M\n",
       "8  2019   22-JUN-19        M"
      ]
     },
     "execution_count": 20,
     "metadata": {},
     "output_type": "execute_result"
    }
   ],
   "source": [
    "VT_df"
   ]
  },
  {
   "cell_type": "code",
   "execution_count": 21,
   "id": "906d95df-812d-46e8-81a1-023f0a8e6369",
   "metadata": {},
   "outputs": [
    {
     "data": {
      "text/html": [
       "<div>\n",
       "<style scoped>\n",
       "    .dataframe tbody tr th:only-of-type {\n",
       "        vertical-align: middle;\n",
       "    }\n",
       "\n",
       "    .dataframe tbody tr th {\n",
       "        vertical-align: top;\n",
       "    }\n",
       "\n",
       "    .dataframe thead th {\n",
       "        text-align: right;\n",
       "    }\n",
       "</style>\n",
       "<table border=\"1\" class=\"dataframe\">\n",
       "  <thead>\n",
       "    <tr style=\"text-align: right;\">\n",
       "      <th></th>\n",
       "      <th>year</th>\n",
       "      <th>arrest_date</th>\n",
       "      <th>sex_code</th>\n",
       "      <th>state</th>\n",
       "    </tr>\n",
       "  </thead>\n",
       "  <tbody>\n",
       "    <tr>\n",
       "      <th>0</th>\n",
       "      <td>2017</td>\n",
       "      <td>06-SEP-17</td>\n",
       "      <td>F</td>\n",
       "      <td>VT</td>\n",
       "    </tr>\n",
       "    <tr>\n",
       "      <th>1</th>\n",
       "      <td>2017</td>\n",
       "      <td>17-OCT-17</td>\n",
       "      <td>F</td>\n",
       "      <td>VT</td>\n",
       "    </tr>\n",
       "    <tr>\n",
       "      <th>2</th>\n",
       "      <td>2017</td>\n",
       "      <td>03-JUN-17</td>\n",
       "      <td>F</td>\n",
       "      <td>VT</td>\n",
       "    </tr>\n",
       "    <tr>\n",
       "      <th>3</th>\n",
       "      <td>2017</td>\n",
       "      <td>16-AUG-17</td>\n",
       "      <td>F</td>\n",
       "      <td>VT</td>\n",
       "    </tr>\n",
       "    <tr>\n",
       "      <th>4</th>\n",
       "      <td>2018</td>\n",
       "      <td>09-AUG-18</td>\n",
       "      <td>F</td>\n",
       "      <td>VT</td>\n",
       "    </tr>\n",
       "    <tr>\n",
       "      <th>5</th>\n",
       "      <td>2019</td>\n",
       "      <td>06-FEB-19</td>\n",
       "      <td>M</td>\n",
       "      <td>VT</td>\n",
       "    </tr>\n",
       "    <tr>\n",
       "      <th>6</th>\n",
       "      <td>2019</td>\n",
       "      <td>15-OCT-19</td>\n",
       "      <td>F</td>\n",
       "      <td>VT</td>\n",
       "    </tr>\n",
       "    <tr>\n",
       "      <th>7</th>\n",
       "      <td>2019</td>\n",
       "      <td>17-NOV-19</td>\n",
       "      <td>M</td>\n",
       "      <td>VT</td>\n",
       "    </tr>\n",
       "    <tr>\n",
       "      <th>8</th>\n",
       "      <td>2019</td>\n",
       "      <td>22-JUN-19</td>\n",
       "      <td>M</td>\n",
       "      <td>VT</td>\n",
       "    </tr>\n",
       "  </tbody>\n",
       "</table>\n",
       "</div>"
      ],
      "text/plain": [
       "   year arrest_date sex_code state\n",
       "0  2017   06-SEP-17        F    VT\n",
       "1  2017   17-OCT-17        F    VT\n",
       "2  2017   03-JUN-17        F    VT\n",
       "3  2017   16-AUG-17        F    VT\n",
       "4  2018   09-AUG-18        F    VT\n",
       "5  2019   06-FEB-19        M    VT\n",
       "6  2019   15-OCT-19        F    VT\n",
       "7  2019   17-NOV-19        M    VT\n",
       "8  2019   22-JUN-19        M    VT"
      ]
     },
     "execution_count": 21,
     "metadata": {},
     "output_type": "execute_result"
    }
   ],
   "source": [
    "VT_df['state'] = 'VT'\n",
    "VT_df"
   ]
  },
  {
   "cell_type": "code",
   "execution_count": 22,
   "id": "bab9c53c-052a-40f3-bd43-54c4dbde1347",
   "metadata": {},
   "outputs": [],
   "source": [
    "date = VT_df['arrest_date'].str.split('-')\n",
    "month = []\n",
    "for number in date:\n",
    "    if number[1] == 'JAN':\n",
    "        month.append(1)\n",
    "    if number[1] == 'FEB':\n",
    "        month.append(2)\n",
    "    if number[1] == 'MAR':\n",
    "        month.append(3)\n",
    "    if number[1] == 'APR':\n",
    "        month.append(4)\n",
    "    if number[1] == 'MAY':\n",
    "        month.append(5)\n",
    "    if number[1] == 'JUN':\n",
    "        month.append(6)\n",
    "    if number[1] == 'JUL':\n",
    "        month.append(7)\n",
    "    if number[1] == 'AUG':\n",
    "        month.append(8)\n",
    "    if number[1] == 'SEP':\n",
    "        month.append(9)\n",
    "    if number[1] == 'OCT':\n",
    "        month.append(10)\n",
    "    if number[1] == 'NOV':\n",
    "        month.append(11)\n",
    "    if number[1] == 'DEC':\n",
    "        month.append(12)"
   ]
  },
  {
   "cell_type": "code",
   "execution_count": 23,
   "id": "bf2de855-5109-4527-bd37-293645ac51bc",
   "metadata": {},
   "outputs": [],
   "source": [
    "VT_df['arrest_date'] = month\n",
    "VT_df = VT_df.rename(columns={'arrest_date':'month'})"
   ]
  },
  {
   "cell_type": "markdown",
   "id": "324f1fb6-89b4-4f25-878c-b3e1cc4c6f1a",
   "metadata": {},
   "source": [
    "# Final DataFrame"
   ]
  },
  {
   "cell_type": "code",
   "execution_count": 24,
   "id": "a973d8cd-9451-4c5e-b118-9203dd4d37ee",
   "metadata": {},
   "outputs": [
    {
     "name": "stdout",
     "output_type": "stream",
     "text": [
      "<class 'pandas.core.frame.DataFrame'>\n",
      "Int64Index: 9 entries, 0 to 8\n",
      "Data columns (total 4 columns):\n",
      " #   Column    Non-Null Count  Dtype \n",
      "---  ------    --------------  ----- \n",
      " 0   year      9 non-null      int64 \n",
      " 1   month     9 non-null      int64 \n",
      " 2   sex_code  9 non-null      object\n",
      " 3   state     9 non-null      object\n",
      "dtypes: int64(2), object(2)\n",
      "memory usage: 360.0+ bytes\n"
     ]
    }
   ],
   "source": [
    "VT_df.info()"
   ]
  },
  {
   "cell_type": "markdown",
   "id": "a83472f3-2da3-4134-8181-5cec0e576f9c",
   "metadata": {},
   "source": [
    "# Convert to csv file"
   ]
  },
  {
   "cell_type": "code",
   "execution_count": 25,
   "id": "839e1419-747c-49c9-bc28-6b6f06fb6e40",
   "metadata": {},
   "outputs": [],
   "source": [
    "VT_df.to_csv('../Resources/Vermont/vermont.csv')"
   ]
  },
  {
   "cell_type": "code",
   "execution_count": null,
   "id": "8b731944-95d1-474d-b0c0-e51220e8e74e",
   "metadata": {},
   "outputs": [],
   "source": []
  }
 ],
 "metadata": {
  "kernelspec": {
   "display_name": "Python 3",
   "language": "python",
   "name": "python3"
  },
  "language_info": {
   "codemirror_mode": {
    "name": "ipython",
    "version": 3
   },
   "file_extension": ".py",
   "mimetype": "text/x-python",
   "name": "python",
   "nbconvert_exporter": "python",
   "pygments_lexer": "ipython3",
   "version": "3.8.8"
  }
 },
 "nbformat": 4,
 "nbformat_minor": 5
}
