{
 "cells": [
  {
   "cell_type": "code",
   "execution_count": 1,
   "id": "20a6fa3e-296f-4ef2-8fd4-5e61464ecd14",
   "metadata": {},
   "outputs": [],
   "source": [
    "import os\n",
    "import pandas as pd"
   ]
  },
  {
   "cell_type": "code",
   "execution_count": 2,
   "id": "d7657dbe-3989-4fbf-803e-2c2f97ac0d92",
   "metadata": {},
   "outputs": [],
   "source": [
    "RI_2015 = os.path.join('../Resources/Rhode Island','nibrs_arrestee_2015.csv')\n",
    "RI_2016 = os.path.join('../Resources/Rhode Island','nibrs_arrestee_2016.csv')\n",
    "RI_2017 = os.path.join('../Resources/Rhode Island','nibrs_arrestee_2017.csv')\n",
    "RI_2018 = os.path.join('../Resources/Rhode Island','nibrs_arrestee_2018.csv')\n",
    "RI_2019 = os.path.join('../Resources/Rhode Island','nibrs_arrestee_2019.csv')"
   ]
  },
  {
   "cell_type": "markdown",
   "id": "8ea4030e-ad77-48e3-9c2a-9837583d5ed9",
   "metadata": {},
   "source": [
    "# Files to DataFrame"
   ]
  },
  {
   "cell_type": "code",
   "execution_count": 3,
   "id": "26dff39e-fa34-43c3-bda2-a4410820e2ea",
   "metadata": {},
   "outputs": [],
   "source": [
    "RI_2015_df = pd.read_csv(RI_2015)\n",
    "RI_2016_df = pd.read_csv(RI_2016)\n",
    "RI_2017_df = pd.read_csv(RI_2017)\n",
    "RI_2018_df = pd.read_csv(RI_2018)\n",
    "RI_2019_df = pd.read_csv(RI_2019)"
   ]
  },
  {
   "cell_type": "markdown",
   "id": "b917e6a8-c8ea-4203-86b7-c2d8b849da46",
   "metadata": {},
   "source": [
    "# Select columns and copy DataFrame"
   ]
  },
  {
   "cell_type": "code",
   "execution_count": 4,
   "id": "f40fdb73-722e-424a-b32f-f2c3e9043c3c",
   "metadata": {},
   "outputs": [],
   "source": [
    "RI_2015_df = RI_2015_df[['arrest_date','offense_type_id', 'sex_code']].copy()\n",
    "RI_2016_df = RI_2016_df[['arrest_date','offense_type_id', 'sex_code']].copy()\n",
    "RI_2017_df = RI_2017_df[['DATA_YEAR','ARREST_DATE','OFFENSE_TYPE_ID', 'SEX_CODE']].copy()\n",
    "RI_2018_df = RI_2018_df[['DATA_YEAR','ARREST_DATE','OFFENSE_TYPE_ID', 'SEX_CODE']].copy()\n",
    "RI_2019_df = RI_2019_df[['DATA_YEAR','ARREST_DATE','OFFENSE_TYPE_ID', 'SEX_CODE']].copy()"
   ]
  },
  {
   "cell_type": "markdown",
   "id": "b9bb5be7-4f14-4a66-97f1-fc6afe80f179",
   "metadata": {},
   "source": [
    "# Filter by offense_type = 35 for drug type"
   ]
  },
  {
   "cell_type": "code",
   "execution_count": 5,
   "id": "5ddf2a68-f124-43c8-a8af-a90ea013f11f",
   "metadata": {},
   "outputs": [],
   "source": [
    "offense_type = 35"
   ]
  },
  {
   "cell_type": "code",
   "execution_count": 6,
   "id": "6dbc53c4-5d32-4834-86ac-aab096a9b325",
   "metadata": {},
   "outputs": [
    {
     "data": {
      "text/html": [
       "<div>\n",
       "<style scoped>\n",
       "    .dataframe tbody tr th:only-of-type {\n",
       "        vertical-align: middle;\n",
       "    }\n",
       "\n",
       "    .dataframe tbody tr th {\n",
       "        vertical-align: top;\n",
       "    }\n",
       "\n",
       "    .dataframe thead th {\n",
       "        text-align: right;\n",
       "    }\n",
       "</style>\n",
       "<table border=\"1\" class=\"dataframe\">\n",
       "  <thead>\n",
       "    <tr style=\"text-align: right;\">\n",
       "      <th></th>\n",
       "      <th>arrest_date</th>\n",
       "      <th>offense_type_id</th>\n",
       "      <th>sex_code</th>\n",
       "    </tr>\n",
       "  </thead>\n",
       "  <tbody>\n",
       "    <tr>\n",
       "      <th>13142</th>\n",
       "      <td>2015-08-10 00:00:00</td>\n",
       "      <td>35</td>\n",
       "      <td>M</td>\n",
       "    </tr>\n",
       "  </tbody>\n",
       "</table>\n",
       "</div>"
      ],
      "text/plain": [
       "               arrest_date  offense_type_id sex_code\n",
       "13142  2015-08-10 00:00:00               35        M"
      ]
     },
     "execution_count": 6,
     "metadata": {},
     "output_type": "execute_result"
    }
   ],
   "source": [
    "RI_2015_df = RI_2015_df[RI_2015_df.offense_type_id.eq(offense_type)]\n",
    "RI_2015_df"
   ]
  },
  {
   "cell_type": "code",
   "execution_count": 7,
   "id": "cf423d3c-1820-4e2d-8f3b-63c2a552633b",
   "metadata": {},
   "outputs": [
    {
     "data": {
      "text/html": [
       "<div>\n",
       "<style scoped>\n",
       "    .dataframe tbody tr th:only-of-type {\n",
       "        vertical-align: middle;\n",
       "    }\n",
       "\n",
       "    .dataframe tbody tr th {\n",
       "        vertical-align: top;\n",
       "    }\n",
       "\n",
       "    .dataframe thead th {\n",
       "        text-align: right;\n",
       "    }\n",
       "</style>\n",
       "<table border=\"1\" class=\"dataframe\">\n",
       "  <thead>\n",
       "    <tr style=\"text-align: right;\">\n",
       "      <th></th>\n",
       "      <th>arrest_date</th>\n",
       "      <th>offense_type_id</th>\n",
       "      <th>sex_code</th>\n",
       "    </tr>\n",
       "  </thead>\n",
       "  <tbody>\n",
       "    <tr>\n",
       "      <th>5765</th>\n",
       "      <td>2016-07-17 00:00:00</td>\n",
       "      <td>35</td>\n",
       "      <td>M</td>\n",
       "    </tr>\n",
       "    <tr>\n",
       "      <th>10511</th>\n",
       "      <td>2016-12-20 00:00:00</td>\n",
       "      <td>35</td>\n",
       "      <td>M</td>\n",
       "    </tr>\n",
       "    <tr>\n",
       "      <th>10512</th>\n",
       "      <td>2016-12-15 00:00:00</td>\n",
       "      <td>35</td>\n",
       "      <td>M</td>\n",
       "    </tr>\n",
       "    <tr>\n",
       "      <th>10513</th>\n",
       "      <td>2016-12-15 00:00:00</td>\n",
       "      <td>35</td>\n",
       "      <td>M</td>\n",
       "    </tr>\n",
       "    <tr>\n",
       "      <th>12187</th>\n",
       "      <td>2016-07-07 00:00:00</td>\n",
       "      <td>35</td>\n",
       "      <td>M</td>\n",
       "    </tr>\n",
       "  </tbody>\n",
       "</table>\n",
       "</div>"
      ],
      "text/plain": [
       "               arrest_date  offense_type_id sex_code\n",
       "5765   2016-07-17 00:00:00               35        M\n",
       "10511  2016-12-20 00:00:00               35        M\n",
       "10512  2016-12-15 00:00:00               35        M\n",
       "10513  2016-12-15 00:00:00               35        M\n",
       "12187  2016-07-07 00:00:00               35        M"
      ]
     },
     "execution_count": 7,
     "metadata": {},
     "output_type": "execute_result"
    }
   ],
   "source": [
    "RI_2016_df = RI_2016_df[RI_2016_df.offense_type_id.eq(offense_type)]\n",
    "RI_2016_df"
   ]
  },
  {
   "cell_type": "code",
   "execution_count": 8,
   "id": "2b169238-b9f2-4c92-8fab-581bbacbcf14",
   "metadata": {},
   "outputs": [],
   "source": [
    "RI_2017_df = RI_2017_df[RI_2017_df.OFFENSE_TYPE_ID.eq(offense_type)]\n",
    "RI_2017_df = RI_2017_df.reset_index(drop=True)\n",
    "RI_2017_df = RI_2017_df.rename(columns={'DATA_YEAR':'year',\"ARREST_DATE\":'arrest_date','OFFENSE_TYPE_ID':'offense_type_id','SEX_CODE':'sex_code'})"
   ]
  },
  {
   "cell_type": "code",
   "execution_count": 9,
   "id": "49154c1d-2891-4f12-b358-e11a2ae47643",
   "metadata": {},
   "outputs": [
    {
     "data": {
      "text/html": [
       "<div>\n",
       "<style scoped>\n",
       "    .dataframe tbody tr th:only-of-type {\n",
       "        vertical-align: middle;\n",
       "    }\n",
       "\n",
       "    .dataframe tbody tr th {\n",
       "        vertical-align: top;\n",
       "    }\n",
       "\n",
       "    .dataframe thead th {\n",
       "        text-align: right;\n",
       "    }\n",
       "</style>\n",
       "<table border=\"1\" class=\"dataframe\">\n",
       "  <thead>\n",
       "    <tr style=\"text-align: right;\">\n",
       "      <th></th>\n",
       "      <th>year</th>\n",
       "      <th>arrest_date</th>\n",
       "      <th>offense_type_id</th>\n",
       "      <th>sex_code</th>\n",
       "    </tr>\n",
       "  </thead>\n",
       "  <tbody>\n",
       "    <tr>\n",
       "      <th>0</th>\n",
       "      <td>2017</td>\n",
       "      <td>23-DEC-17</td>\n",
       "      <td>35</td>\n",
       "      <td>M</td>\n",
       "    </tr>\n",
       "    <tr>\n",
       "      <th>1</th>\n",
       "      <td>2017</td>\n",
       "      <td>23-APR-17</td>\n",
       "      <td>35</td>\n",
       "      <td>M</td>\n",
       "    </tr>\n",
       "    <tr>\n",
       "      <th>2</th>\n",
       "      <td>2017</td>\n",
       "      <td>13-APR-17</td>\n",
       "      <td>35</td>\n",
       "      <td>F</td>\n",
       "    </tr>\n",
       "  </tbody>\n",
       "</table>\n",
       "</div>"
      ],
      "text/plain": [
       "   year arrest_date  offense_type_id sex_code\n",
       "0  2017   23-DEC-17               35        M\n",
       "1  2017   23-APR-17               35        M\n",
       "2  2017   13-APR-17               35        F"
      ]
     },
     "execution_count": 9,
     "metadata": {},
     "output_type": "execute_result"
    }
   ],
   "source": [
    "RI_2017_df"
   ]
  },
  {
   "cell_type": "code",
   "execution_count": 10,
   "id": "2709db2c-d1bb-4ea3-b9e6-fe29c12e1536",
   "metadata": {},
   "outputs": [],
   "source": [
    "RI_2018_df = RI_2018_df[RI_2018_df.OFFENSE_TYPE_ID.eq(offense_type)]\n",
    "RI_2018_df = RI_2018_df.reset_index(drop=True)\n",
    "RI_2018_df = RI_2018_df.rename(columns={'DATA_YEAR':'year',\"ARREST_DATE\":'arrest_date','OFFENSE_TYPE_ID':'offense_type_id','SEX_CODE':'sex_code'})"
   ]
  },
  {
   "cell_type": "code",
   "execution_count": 11,
   "id": "6766c7a5-c423-4fd0-bb46-66d9e6fff840",
   "metadata": {},
   "outputs": [
    {
     "data": {
      "text/html": [
       "<div>\n",
       "<style scoped>\n",
       "    .dataframe tbody tr th:only-of-type {\n",
       "        vertical-align: middle;\n",
       "    }\n",
       "\n",
       "    .dataframe tbody tr th {\n",
       "        vertical-align: top;\n",
       "    }\n",
       "\n",
       "    .dataframe thead th {\n",
       "        text-align: right;\n",
       "    }\n",
       "</style>\n",
       "<table border=\"1\" class=\"dataframe\">\n",
       "  <thead>\n",
       "    <tr style=\"text-align: right;\">\n",
       "      <th></th>\n",
       "      <th>year</th>\n",
       "      <th>arrest_date</th>\n",
       "      <th>offense_type_id</th>\n",
       "      <th>sex_code</th>\n",
       "    </tr>\n",
       "  </thead>\n",
       "  <tbody>\n",
       "    <tr>\n",
       "      <th>0</th>\n",
       "      <td>2018</td>\n",
       "      <td>09-FEB-18</td>\n",
       "      <td>35</td>\n",
       "      <td>M</td>\n",
       "    </tr>\n",
       "    <tr>\n",
       "      <th>1</th>\n",
       "      <td>2018</td>\n",
       "      <td>09-FEB-18</td>\n",
       "      <td>35</td>\n",
       "      <td>F</td>\n",
       "    </tr>\n",
       "    <tr>\n",
       "      <th>2</th>\n",
       "      <td>2018</td>\n",
       "      <td>09-FEB-18</td>\n",
       "      <td>35</td>\n",
       "      <td>M</td>\n",
       "    </tr>\n",
       "    <tr>\n",
       "      <th>3</th>\n",
       "      <td>2018</td>\n",
       "      <td>09-FEB-18</td>\n",
       "      <td>35</td>\n",
       "      <td>M</td>\n",
       "    </tr>\n",
       "  </tbody>\n",
       "</table>\n",
       "</div>"
      ],
      "text/plain": [
       "   year arrest_date  offense_type_id sex_code\n",
       "0  2018   09-FEB-18               35        M\n",
       "1  2018   09-FEB-18               35        F\n",
       "2  2018   09-FEB-18               35        M\n",
       "3  2018   09-FEB-18               35        M"
      ]
     },
     "execution_count": 11,
     "metadata": {},
     "output_type": "execute_result"
    }
   ],
   "source": [
    "RI_2018_df"
   ]
  },
  {
   "cell_type": "code",
   "execution_count": 12,
   "id": "2d01f5cb-fe35-408d-9069-79f158c90f48",
   "metadata": {},
   "outputs": [],
   "source": [
    "RI_2019_df = RI_2019_df[RI_2019_df.OFFENSE_TYPE_ID.eq(offense_type)]\n",
    "RI_2019_df = RI_2019_df.reset_index(drop = True)\n",
    "RI_2019_df = RI_2019_df.rename(columns={'DATA_YEAR':'year',\"ARREST_DATE\":'arrest_date','OFFENSE_TYPE_ID':'offense_type_id','SEX_CODE':'sex_code'})"
   ]
  },
  {
   "cell_type": "code",
   "execution_count": 13,
   "id": "cdb77591-27d8-4b8f-8c17-804bcae19c00",
   "metadata": {},
   "outputs": [
    {
     "data": {
      "text/html": [
       "<div>\n",
       "<style scoped>\n",
       "    .dataframe tbody tr th:only-of-type {\n",
       "        vertical-align: middle;\n",
       "    }\n",
       "\n",
       "    .dataframe tbody tr th {\n",
       "        vertical-align: top;\n",
       "    }\n",
       "\n",
       "    .dataframe thead th {\n",
       "        text-align: right;\n",
       "    }\n",
       "</style>\n",
       "<table border=\"1\" class=\"dataframe\">\n",
       "  <thead>\n",
       "    <tr style=\"text-align: right;\">\n",
       "      <th></th>\n",
       "      <th>year</th>\n",
       "      <th>arrest_date</th>\n",
       "      <th>offense_type_id</th>\n",
       "      <th>sex_code</th>\n",
       "    </tr>\n",
       "  </thead>\n",
       "  <tbody>\n",
       "  </tbody>\n",
       "</table>\n",
       "</div>"
      ],
      "text/plain": [
       "Empty DataFrame\n",
       "Columns: [year, arrest_date, offense_type_id, sex_code]\n",
       "Index: []"
      ]
     },
     "execution_count": 13,
     "metadata": {},
     "output_type": "execute_result"
    }
   ],
   "source": [
    "RI_2019_df"
   ]
  },
  {
   "cell_type": "markdown",
   "id": "80b6c1dd-a2a0-4fcb-9dfd-f11b334ab9f0",
   "metadata": {},
   "source": [
    "# Merge DataFrame and set up month and year before merging after 2016"
   ]
  },
  {
   "cell_type": "code",
   "execution_count": 14,
   "id": "51ec57d8-f267-4e15-8bf0-4e821e5007f6",
   "metadata": {},
   "outputs": [],
   "source": [
    "merged = RI_2015_df.merge(RI_2016_df, how = 'outer')\n",
    "merged2 = RI_2017_df.merge(RI_2018_df, how = 'outer')\n",
    "merged3 = merged2.merge(RI_2019_df, how = 'outer')"
   ]
  },
  {
   "cell_type": "code",
   "execution_count": 15,
   "id": "9424b3b7-1ef8-437e-9dea-0ae7caaa2732",
   "metadata": {},
   "outputs": [],
   "source": [
    "merged15_16 = merged[['arrest_date','sex_code']].copy()"
   ]
  },
  {
   "cell_type": "code",
   "execution_count": 16,
   "id": "94da5076-ed31-499b-b567-be1d3d5a4493",
   "metadata": {},
   "outputs": [
    {
     "data": {
      "text/html": [
       "<div>\n",
       "<style scoped>\n",
       "    .dataframe tbody tr th:only-of-type {\n",
       "        vertical-align: middle;\n",
       "    }\n",
       "\n",
       "    .dataframe tbody tr th {\n",
       "        vertical-align: top;\n",
       "    }\n",
       "\n",
       "    .dataframe thead th {\n",
       "        text-align: right;\n",
       "    }\n",
       "</style>\n",
       "<table border=\"1\" class=\"dataframe\">\n",
       "  <thead>\n",
       "    <tr style=\"text-align: right;\">\n",
       "      <th></th>\n",
       "      <th>arrest_date</th>\n",
       "      <th>sex_code</th>\n",
       "    </tr>\n",
       "  </thead>\n",
       "  <tbody>\n",
       "    <tr>\n",
       "      <th>0</th>\n",
       "      <td>2015-08-10 00:00:00</td>\n",
       "      <td>M</td>\n",
       "    </tr>\n",
       "    <tr>\n",
       "      <th>1</th>\n",
       "      <td>2016-07-17 00:00:00</td>\n",
       "      <td>M</td>\n",
       "    </tr>\n",
       "    <tr>\n",
       "      <th>2</th>\n",
       "      <td>2016-12-20 00:00:00</td>\n",
       "      <td>M</td>\n",
       "    </tr>\n",
       "    <tr>\n",
       "      <th>3</th>\n",
       "      <td>2016-12-15 00:00:00</td>\n",
       "      <td>M</td>\n",
       "    </tr>\n",
       "    <tr>\n",
       "      <th>4</th>\n",
       "      <td>2016-12-15 00:00:00</td>\n",
       "      <td>M</td>\n",
       "    </tr>\n",
       "    <tr>\n",
       "      <th>5</th>\n",
       "      <td>2016-07-07 00:00:00</td>\n",
       "      <td>M</td>\n",
       "    </tr>\n",
       "  </tbody>\n",
       "</table>\n",
       "</div>"
      ],
      "text/plain": [
       "           arrest_date sex_code\n",
       "0  2015-08-10 00:00:00        M\n",
       "1  2016-07-17 00:00:00        M\n",
       "2  2016-12-20 00:00:00        M\n",
       "3  2016-12-15 00:00:00        M\n",
       "4  2016-12-15 00:00:00        M\n",
       "5  2016-07-07 00:00:00        M"
      ]
     },
     "execution_count": 16,
     "metadata": {},
     "output_type": "execute_result"
    }
   ],
   "source": [
    "merged15_16"
   ]
  },
  {
   "cell_type": "code",
   "execution_count": 17,
   "id": "caedf400-0d3f-4467-9bdf-e1f362150511",
   "metadata": {},
   "outputs": [],
   "source": [
    "dates = merged15_16['arrest_date'].str.split('-')\n",
    "month = []\n",
    "for number in dates:\n",
    "    month.append(int(number[1]))"
   ]
  },
  {
   "cell_type": "code",
   "execution_count": 18,
   "id": "59730c28-934c-4aef-ac5d-cc3740906382",
   "metadata": {},
   "outputs": [],
   "source": [
    "merged15_16['arrest_date'] = month\n",
    "merged15_16 = merged15_16.rename(columns={'arrest_date':'month'})\n",
    "merged15_16['year'] = [2015,2016,2016,2016,2016,2016]"
   ]
  },
  {
   "cell_type": "code",
   "execution_count": 19,
   "id": "4332f2e7-82be-4e88-9b42-b0c68549ffc8",
   "metadata": {},
   "outputs": [
    {
     "data": {
      "text/html": [
       "<div>\n",
       "<style scoped>\n",
       "    .dataframe tbody tr th:only-of-type {\n",
       "        vertical-align: middle;\n",
       "    }\n",
       "\n",
       "    .dataframe tbody tr th {\n",
       "        vertical-align: top;\n",
       "    }\n",
       "\n",
       "    .dataframe thead th {\n",
       "        text-align: right;\n",
       "    }\n",
       "</style>\n",
       "<table border=\"1\" class=\"dataframe\">\n",
       "  <thead>\n",
       "    <tr style=\"text-align: right;\">\n",
       "      <th></th>\n",
       "      <th>month</th>\n",
       "      <th>sex_code</th>\n",
       "      <th>year</th>\n",
       "    </tr>\n",
       "  </thead>\n",
       "  <tbody>\n",
       "    <tr>\n",
       "      <th>0</th>\n",
       "      <td>8</td>\n",
       "      <td>M</td>\n",
       "      <td>2015</td>\n",
       "    </tr>\n",
       "    <tr>\n",
       "      <th>1</th>\n",
       "      <td>7</td>\n",
       "      <td>M</td>\n",
       "      <td>2016</td>\n",
       "    </tr>\n",
       "    <tr>\n",
       "      <th>2</th>\n",
       "      <td>12</td>\n",
       "      <td>M</td>\n",
       "      <td>2016</td>\n",
       "    </tr>\n",
       "    <tr>\n",
       "      <th>3</th>\n",
       "      <td>12</td>\n",
       "      <td>M</td>\n",
       "      <td>2016</td>\n",
       "    </tr>\n",
       "    <tr>\n",
       "      <th>4</th>\n",
       "      <td>12</td>\n",
       "      <td>M</td>\n",
       "      <td>2016</td>\n",
       "    </tr>\n",
       "    <tr>\n",
       "      <th>5</th>\n",
       "      <td>7</td>\n",
       "      <td>M</td>\n",
       "      <td>2016</td>\n",
       "    </tr>\n",
       "  </tbody>\n",
       "</table>\n",
       "</div>"
      ],
      "text/plain": [
       "   month sex_code  year\n",
       "0      8        M  2015\n",
       "1      7        M  2016\n",
       "2     12        M  2016\n",
       "3     12        M  2016\n",
       "4     12        M  2016\n",
       "5      7        M  2016"
      ]
     },
     "execution_count": 19,
     "metadata": {},
     "output_type": "execute_result"
    }
   ],
   "source": [
    "merged15_16"
   ]
  },
  {
   "cell_type": "markdown",
   "id": "27aec8f3-5306-44b2-88ea-87ba3df3e25a",
   "metadata": {},
   "source": [
    "# Set up month and Year"
   ]
  },
  {
   "cell_type": "code",
   "execution_count": 20,
   "id": "df3325a5-080c-419b-9ee9-8b2ab51d18de",
   "metadata": {},
   "outputs": [],
   "source": [
    "merged17_19 = merged3[['year','arrest_date','sex_code']].copy()"
   ]
  },
  {
   "cell_type": "code",
   "execution_count": 21,
   "id": "2d8217f0-374b-4e5d-88eb-bd8c5ddff28a",
   "metadata": {},
   "outputs": [
    {
     "data": {
      "text/html": [
       "<div>\n",
       "<style scoped>\n",
       "    .dataframe tbody tr th:only-of-type {\n",
       "        vertical-align: middle;\n",
       "    }\n",
       "\n",
       "    .dataframe tbody tr th {\n",
       "        vertical-align: top;\n",
       "    }\n",
       "\n",
       "    .dataframe thead th {\n",
       "        text-align: right;\n",
       "    }\n",
       "</style>\n",
       "<table border=\"1\" class=\"dataframe\">\n",
       "  <thead>\n",
       "    <tr style=\"text-align: right;\">\n",
       "      <th></th>\n",
       "      <th>year</th>\n",
       "      <th>arrest_date</th>\n",
       "      <th>sex_code</th>\n",
       "    </tr>\n",
       "  </thead>\n",
       "  <tbody>\n",
       "    <tr>\n",
       "      <th>0</th>\n",
       "      <td>2017</td>\n",
       "      <td>23-DEC-17</td>\n",
       "      <td>M</td>\n",
       "    </tr>\n",
       "    <tr>\n",
       "      <th>1</th>\n",
       "      <td>2017</td>\n",
       "      <td>23-APR-17</td>\n",
       "      <td>M</td>\n",
       "    </tr>\n",
       "    <tr>\n",
       "      <th>2</th>\n",
       "      <td>2017</td>\n",
       "      <td>13-APR-17</td>\n",
       "      <td>F</td>\n",
       "    </tr>\n",
       "    <tr>\n",
       "      <th>3</th>\n",
       "      <td>2018</td>\n",
       "      <td>09-FEB-18</td>\n",
       "      <td>M</td>\n",
       "    </tr>\n",
       "    <tr>\n",
       "      <th>4</th>\n",
       "      <td>2018</td>\n",
       "      <td>09-FEB-18</td>\n",
       "      <td>M</td>\n",
       "    </tr>\n",
       "    <tr>\n",
       "      <th>5</th>\n",
       "      <td>2018</td>\n",
       "      <td>09-FEB-18</td>\n",
       "      <td>M</td>\n",
       "    </tr>\n",
       "    <tr>\n",
       "      <th>6</th>\n",
       "      <td>2018</td>\n",
       "      <td>09-FEB-18</td>\n",
       "      <td>F</td>\n",
       "    </tr>\n",
       "  </tbody>\n",
       "</table>\n",
       "</div>"
      ],
      "text/plain": [
       "   year arrest_date sex_code\n",
       "0  2017   23-DEC-17        M\n",
       "1  2017   23-APR-17        M\n",
       "2  2017   13-APR-17        F\n",
       "3  2018   09-FEB-18        M\n",
       "4  2018   09-FEB-18        M\n",
       "5  2018   09-FEB-18        M\n",
       "6  2018   09-FEB-18        F"
      ]
     },
     "execution_count": 21,
     "metadata": {},
     "output_type": "execute_result"
    }
   ],
   "source": [
    "merged17_19"
   ]
  },
  {
   "cell_type": "code",
   "execution_count": 22,
   "id": "bbd94b5f-ad10-4c5a-804d-cbbcd73d3ff9",
   "metadata": {},
   "outputs": [],
   "source": [
    "date = merged17_19['arrest_date'].str.split('-')\n",
    "month = []\n",
    "for number in date:\n",
    "    if number[1] == 'JAN':\n",
    "        month.append(1)\n",
    "    if number[1] == 'FEB':\n",
    "        month.append(2)\n",
    "    if number[1] == 'MAR':\n",
    "        month.append(3)\n",
    "    if number[1] == 'APR':\n",
    "        month.append(4)\n",
    "    if number[1] == 'MAY':\n",
    "        month.append(5)\n",
    "    if number[1] == 'JUN':\n",
    "        month.append(6)\n",
    "    if number[1] == 'JUL':\n",
    "        month.append(7)\n",
    "    if number[1] == 'AUG':\n",
    "        month.append(8)\n",
    "    if number[1] == 'SEP':\n",
    "        month.append(9)\n",
    "    if number[1] == 'OCT':\n",
    "        month.append(10)\n",
    "    if number[1] == 'NOV':\n",
    "        month.append(11)\n",
    "    if number[1] == 'DEC':\n",
    "        month.append(12)"
   ]
  },
  {
   "cell_type": "code",
   "execution_count": 23,
   "id": "4592e686-d3c8-464f-8feb-d9b4424d4ce6",
   "metadata": {},
   "outputs": [],
   "source": [
    "merged17_19['arrest_date'] = month\n",
    "merged17_19 = merged17_19.rename(columns={'arrest_date':'month'})"
   ]
  },
  {
   "cell_type": "code",
   "execution_count": 24,
   "id": "7d78ce30-23eb-42ba-b371-72d4d40a4268",
   "metadata": {},
   "outputs": [
    {
     "data": {
      "text/html": [
       "<div>\n",
       "<style scoped>\n",
       "    .dataframe tbody tr th:only-of-type {\n",
       "        vertical-align: middle;\n",
       "    }\n",
       "\n",
       "    .dataframe tbody tr th {\n",
       "        vertical-align: top;\n",
       "    }\n",
       "\n",
       "    .dataframe thead th {\n",
       "        text-align: right;\n",
       "    }\n",
       "</style>\n",
       "<table border=\"1\" class=\"dataframe\">\n",
       "  <thead>\n",
       "    <tr style=\"text-align: right;\">\n",
       "      <th></th>\n",
       "      <th>year</th>\n",
       "      <th>month</th>\n",
       "      <th>sex_code</th>\n",
       "    </tr>\n",
       "  </thead>\n",
       "  <tbody>\n",
       "    <tr>\n",
       "      <th>0</th>\n",
       "      <td>2017</td>\n",
       "      <td>12</td>\n",
       "      <td>M</td>\n",
       "    </tr>\n",
       "    <tr>\n",
       "      <th>1</th>\n",
       "      <td>2017</td>\n",
       "      <td>4</td>\n",
       "      <td>M</td>\n",
       "    </tr>\n",
       "    <tr>\n",
       "      <th>2</th>\n",
       "      <td>2017</td>\n",
       "      <td>4</td>\n",
       "      <td>F</td>\n",
       "    </tr>\n",
       "    <tr>\n",
       "      <th>3</th>\n",
       "      <td>2018</td>\n",
       "      <td>2</td>\n",
       "      <td>M</td>\n",
       "    </tr>\n",
       "    <tr>\n",
       "      <th>4</th>\n",
       "      <td>2018</td>\n",
       "      <td>2</td>\n",
       "      <td>M</td>\n",
       "    </tr>\n",
       "    <tr>\n",
       "      <th>5</th>\n",
       "      <td>2018</td>\n",
       "      <td>2</td>\n",
       "      <td>M</td>\n",
       "    </tr>\n",
       "    <tr>\n",
       "      <th>6</th>\n",
       "      <td>2018</td>\n",
       "      <td>2</td>\n",
       "      <td>F</td>\n",
       "    </tr>\n",
       "  </tbody>\n",
       "</table>\n",
       "</div>"
      ],
      "text/plain": [
       "   year  month sex_code\n",
       "0  2017     12        M\n",
       "1  2017      4        M\n",
       "2  2017      4        F\n",
       "3  2018      2        M\n",
       "4  2018      2        M\n",
       "5  2018      2        M\n",
       "6  2018      2        F"
      ]
     },
     "execution_count": 24,
     "metadata": {},
     "output_type": "execute_result"
    }
   ],
   "source": [
    "merged17_19"
   ]
  },
  {
   "cell_type": "markdown",
   "id": "67a0e99e-cde0-426e-ad74-896096bd3592",
   "metadata": {},
   "source": [
    "# Merge both DataFrame to create Rhode Island DataFrame\n",
    "## set state = RI"
   ]
  },
  {
   "cell_type": "code",
   "execution_count": 25,
   "id": "2615fa0f-4de9-4b1d-8d51-be4f2441278d",
   "metadata": {},
   "outputs": [],
   "source": [
    "RI_df = merged15_16.merge(merged17_19, how = 'outer')\n",
    "RI_df['state'] = 'RI'\n",
    "\n",
    "RI_df = RI_df[['year','month','state','sex_code']]"
   ]
  },
  {
   "cell_type": "code",
   "execution_count": 26,
   "id": "38fb025f-3106-4e4b-8128-fd31646f4386",
   "metadata": {},
   "outputs": [
    {
     "data": {
      "text/html": [
       "<div>\n",
       "<style scoped>\n",
       "    .dataframe tbody tr th:only-of-type {\n",
       "        vertical-align: middle;\n",
       "    }\n",
       "\n",
       "    .dataframe tbody tr th {\n",
       "        vertical-align: top;\n",
       "    }\n",
       "\n",
       "    .dataframe thead th {\n",
       "        text-align: right;\n",
       "    }\n",
       "</style>\n",
       "<table border=\"1\" class=\"dataframe\">\n",
       "  <thead>\n",
       "    <tr style=\"text-align: right;\">\n",
       "      <th></th>\n",
       "      <th>year</th>\n",
       "      <th>month</th>\n",
       "      <th>state</th>\n",
       "      <th>sex_code</th>\n",
       "    </tr>\n",
       "  </thead>\n",
       "  <tbody>\n",
       "    <tr>\n",
       "      <th>0</th>\n",
       "      <td>2015</td>\n",
       "      <td>8</td>\n",
       "      <td>RI</td>\n",
       "      <td>M</td>\n",
       "    </tr>\n",
       "    <tr>\n",
       "      <th>1</th>\n",
       "      <td>2016</td>\n",
       "      <td>7</td>\n",
       "      <td>RI</td>\n",
       "      <td>M</td>\n",
       "    </tr>\n",
       "    <tr>\n",
       "      <th>2</th>\n",
       "      <td>2016</td>\n",
       "      <td>7</td>\n",
       "      <td>RI</td>\n",
       "      <td>M</td>\n",
       "    </tr>\n",
       "    <tr>\n",
       "      <th>3</th>\n",
       "      <td>2016</td>\n",
       "      <td>12</td>\n",
       "      <td>RI</td>\n",
       "      <td>M</td>\n",
       "    </tr>\n",
       "    <tr>\n",
       "      <th>4</th>\n",
       "      <td>2016</td>\n",
       "      <td>12</td>\n",
       "      <td>RI</td>\n",
       "      <td>M</td>\n",
       "    </tr>\n",
       "    <tr>\n",
       "      <th>5</th>\n",
       "      <td>2016</td>\n",
       "      <td>12</td>\n",
       "      <td>RI</td>\n",
       "      <td>M</td>\n",
       "    </tr>\n",
       "    <tr>\n",
       "      <th>6</th>\n",
       "      <td>2017</td>\n",
       "      <td>12</td>\n",
       "      <td>RI</td>\n",
       "      <td>M</td>\n",
       "    </tr>\n",
       "    <tr>\n",
       "      <th>7</th>\n",
       "      <td>2017</td>\n",
       "      <td>4</td>\n",
       "      <td>RI</td>\n",
       "      <td>M</td>\n",
       "    </tr>\n",
       "    <tr>\n",
       "      <th>8</th>\n",
       "      <td>2017</td>\n",
       "      <td>4</td>\n",
       "      <td>RI</td>\n",
       "      <td>F</td>\n",
       "    </tr>\n",
       "    <tr>\n",
       "      <th>9</th>\n",
       "      <td>2018</td>\n",
       "      <td>2</td>\n",
       "      <td>RI</td>\n",
       "      <td>M</td>\n",
       "    </tr>\n",
       "    <tr>\n",
       "      <th>10</th>\n",
       "      <td>2018</td>\n",
       "      <td>2</td>\n",
       "      <td>RI</td>\n",
       "      <td>M</td>\n",
       "    </tr>\n",
       "    <tr>\n",
       "      <th>11</th>\n",
       "      <td>2018</td>\n",
       "      <td>2</td>\n",
       "      <td>RI</td>\n",
       "      <td>M</td>\n",
       "    </tr>\n",
       "    <tr>\n",
       "      <th>12</th>\n",
       "      <td>2018</td>\n",
       "      <td>2</td>\n",
       "      <td>RI</td>\n",
       "      <td>F</td>\n",
       "    </tr>\n",
       "  </tbody>\n",
       "</table>\n",
       "</div>"
      ],
      "text/plain": [
       "    year  month state sex_code\n",
       "0   2015      8    RI        M\n",
       "1   2016      7    RI        M\n",
       "2   2016      7    RI        M\n",
       "3   2016     12    RI        M\n",
       "4   2016     12    RI        M\n",
       "5   2016     12    RI        M\n",
       "6   2017     12    RI        M\n",
       "7   2017      4    RI        M\n",
       "8   2017      4    RI        F\n",
       "9   2018      2    RI        M\n",
       "10  2018      2    RI        M\n",
       "11  2018      2    RI        M\n",
       "12  2018      2    RI        F"
      ]
     },
     "execution_count": 26,
     "metadata": {},
     "output_type": "execute_result"
    }
   ],
   "source": [
    "RI_df"
   ]
  },
  {
   "cell_type": "markdown",
   "id": "c68ea24e-f997-48e1-8343-3aee5326ba42",
   "metadata": {},
   "source": [
    "# Save to csv file"
   ]
  },
  {
   "cell_type": "code",
   "execution_count": 27,
   "id": "6fca5ade-e6a2-45d2-bff4-cf63a94e683e",
   "metadata": {},
   "outputs": [],
   "source": [
    "RI_df.to_csv('../Resources/Rhode Island/rhode_island.csv')"
   ]
  }
 ],
 "metadata": {
  "kernelspec": {
   "display_name": "Python 3",
   "language": "python",
   "name": "python3"
  },
  "language_info": {
   "codemirror_mode": {
    "name": "ipython",
    "version": 3
   },
   "file_extension": ".py",
   "mimetype": "text/x-python",
   "name": "python",
   "nbconvert_exporter": "python",
   "pygments_lexer": "ipython3",
   "version": "3.8.8"
  }
 },
 "nbformat": 4,
 "nbformat_minor": 5
}
